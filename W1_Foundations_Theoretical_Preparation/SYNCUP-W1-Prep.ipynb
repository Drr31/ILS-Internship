{
 "cells": [
  {
   "cell_type": "markdown",
   "id": "139271e5-6f18-4f07-8670-fce5cc6c7306",
   "metadata": {},
   "source": [
    "# SYNCUP - Week 1: Foundations & Theoretical Preparation\n",
    "Objective:\n",
    "Establish a solid foundational understanding of Neural Networks and the CoVerNet paper, alongside refreshing essential mathematical concepts that are critical for the implementation and analysis of neural network coverage metrics.\n"
   ]
  },
  {
   "cell_type": "markdown",
   "id": "c4515a2e-b64a-41d8-a2f9-f167e18fc8d8",
   "metadata": {},
   "source": [
    "Activities Undertaken:\n",
    "1. Reading and Understanding the CoVerNet Paper\n",
    "Thorough review of the paper “CoVerNet: Toward CoVerage Testing for Neural Networks Based on Formally Verified Equivalence Classes”.\n",
    "\n",
    "- Extracted key concepts including:\n",
    "\n",
    "- Definition of coverage in neural networks.\n",
    "\n",
    "- Partitioning input space into equivalence classes.\n",
    "\n",
    "- The concept of Prior Equivalence Classes (PEC) and their formal verification.\n",
    "\n",
    "- Methods for automatic property generation and behavioral coverage.\n",
    "\n"
   ]
  },
  {
   "cell_type": "markdown",
   "id": "eba8e5d5-544c-4ffd-8b49-39bf708b9d17",
   "metadata": {},
   "source": [
    "2. Neural Network Fundamentals Review\n",
    "Revisited architecture basics:\n",
    "\n",
    "- Layers (input, hidden, output).\n",
    "\n",
    "- Common activation functions: (ReLU, ...\n",
    "\n",
    "- Forward propagation and backpropagation algorithms.\n",
    "\n",
    "- Loss functions relevant for classification.\n",
    "\n",
    "- Emphasis on understanding how the neural network processes input features and produces outputs."
   ]
  },
  {
   "cell_type": "markdown",
   "id": "b3c97def-2539-4449-92d5-6ce5512114f1",
   "metadata": {},
   "source": [
    "3. Detailed Linear Algebra Refresher\n",
    "Focusing on mathematical tools underpinning neural network operations and clustering methods used in CoVerNet.\n",
    "\n",
    "   - Vectors and Vector Spaces:\n",
    "     - Definition of vectors in Euclidean distance:\n",
    "     - Operations: addition, scalar multiplication.\n",
    "     - Basis and dimension concepts.\n",
    "\n",
    "\n",
    "   - Matrices and Matrix Operations:\n",
    "      - Matrix definition and notation.\n",
    "      - Matrix multiplication: conditions and properties.\n",
    "      - Transpose and inverse matrices.\n",
    "   \n",
    "\n",
    "   - Dot Product and Norms:\n",
    "      - Dot product definition $a⋅b=∑i=1 --> n, a[i]b[i].$\n",
    "      - Euclidean norm $L ^ 2.$ norm $∥a∥= a⋅a​.$\n",
    "      - Role of norms in distance calculations for clustering and equivalence classes.\n",
    "\n",
    "   - Eigenvalues and Eigenvectors (Overview):\n",
    "       - Definition and intuition.\n",
    "       - Their significance in understanding transformations and PCA (used sometimes for dimensionality reduction).\n",
    "\n",
    "   - Distance Metrics in Input Space:\n",
    "  \n",
    "         - Euclidean distance: $ d(x,y)=∥x−y∥ $\n",
    "         - Its use in K-means clustering for grouping input vectors into equivalence classes.\n",
    "\n"
   ]
  },
  {
   "cell_type": "markdown",
   "id": "d1de933d-ec46-4a75-8a5f-d05dde820cf9",
   "metadata": {},
   "source": [
    "4. Additional Theoretical Concepts\n",
    "- Overview of clustering algorithms, particularly K-means, since it's central to the PEC step.\n",
    "- Basics of formal methods applied to neural network verification, setting the stage for later chapters.\n",
    "\n"
   ]
  },
  {
   "cell_type": "code",
   "execution_count": null,
   "id": "088f6ea2-3062-4292-b7be-011d06588911",
   "metadata": {},
   "outputs": [],
   "source": []
  }
 ],
 "metadata": {
  "kernelspec": {
   "display_name": "Python 3 (ipykernel)",
   "language": "python",
   "name": "python3"
  },
  "language_info": {
   "codemirror_mode": {
    "name": "ipython",
    "version": 3
   },
   "file_extension": ".py",
   "mimetype": "text/x-python",
   "name": "python",
   "nbconvert_exporter": "python",
   "pygments_lexer": "ipython3",
   "version": "3.13.5"
  }
 },
 "nbformat": 4,
 "nbformat_minor": 5
}
